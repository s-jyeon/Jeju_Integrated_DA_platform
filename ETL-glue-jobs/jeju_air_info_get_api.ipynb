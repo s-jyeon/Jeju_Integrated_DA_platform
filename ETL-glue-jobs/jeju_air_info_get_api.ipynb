{
	"metadata": {
		"kernelspec": {
			"name": "glue_pyspark",
			"display_name": "Glue PySpark",
			"language": "python"
		},
		"language_info": {
			"name": "Python_Glue_Session",
			"mimetype": "text/x-python",
			"codemirror_mode": {
				"name": "python",
				"version": 3
			},
			"pygments_lexer": "python3",
			"file_extension": ".py"
		}
	},
	"nbformat_minor": 4,
	"nbformat": 4,
	"cells": [
		{
			"cell_type": "code",
			"source": "%idle_timeout 2880\n%glue_version 5.0\n%worker_type G.1X\n%number_of_workers 5\n\nimport sys\nfrom awsglue.transforms import *\nfrom awsglue.utils import getResolvedOptions\nfrom pyspark.context import SparkContext\nfrom awsglue.context import GlueContext\nfrom awsglue.job import Job\n  \nsc = SparkContext.getOrCreate()\nglueContext = GlueContext(sc)\nspark = glueContext.spark_session\njob = Job(glueContext)",
			"metadata": {
				"trusted": true,
				"editable": true
			},
			"execution_count": 1,
			"outputs": [
				{
					"name": "stdout",
					"text": "Welcome to the Glue Interactive Sessions Kernel\nFor more information on available magic commands, please type %help in any new cell.\n\nPlease view our Getting Started page to access the most up-to-date information on the Interactive Sessions kernel: https://docs.aws.amazon.com/glue/latest/dg/interactive-sessions.html\nInstalled kernel version: 1.0.7 \nCurrent idle_timeout is None minutes.\nidle_timeout has been set to 2880 minutes.\nSetting Glue version to: 5.0\nPrevious worker type: None\nSetting new worker type to: G.1X\nPrevious number of workers: None\nSetting new number of workers to: 5\nTrying to create a Glue session for the kernel.\nSession Type: glueetl\nWorker Type: G.1X\nNumber of Workers: 5\nIdle Timeout: 2880\nSession ID: e1369e33-9643-4405-aaa9-2ad89ad0c854\nApplying the following default arguments:\n--glue_kernel_version 1.0.7\n--enable-glue-datacatalog true\nWaiting for session e1369e33-9643-4405-aaa9-2ad89ad0c854 to get into ready status...\nSession e1369e33-9643-4405-aaa9-2ad89ad0c854 has been created.\n\n",
					"output_type": "stream"
				}
			]
		},
		{
			"cell_type": "code",
			"source": "import requests\nimport xml.etree.ElementTree as ET\nimport pandas as pd\nfrom datetime import datetime, timedelta\nimport time\nimport boto3\nfrom io import StringIO",
			"metadata": {
				"trusted": true,
				"tags": []
			},
			"execution_count": 11,
			"outputs": [
				{
					"name": "stdout",
					"text": "\n",
					"output_type": "stream"
				}
			]
		},
		{
			"cell_type": "code",
			"source": "# 시작 날짜 및 종료 날짜 설정\nstart_date = datetime.today() - timedelta(days=1)\nend_date = datetime.today()  # 오늘 날짜",
			"metadata": {
				"trusted": true,
				"tags": []
			},
			"execution_count": 4,
			"outputs": [
				{
					"name": "stdout",
					"text": "\n",
					"output_type": "stream"
				}
			]
		},
		{
			"cell_type": "code",
			"source": "# 기본 URL\nbase_url = \"http://air.jeju.go.kr/rest/JejuAirService/getJejuAirList/?date=\"\n# 데이터를 저장할 리스트\nall_data = []\nno_data_count = 0  # 데이터를 찾을 수 없는 연속적인 날을 세는 변수\nmax_retries = 5  # 최대 재시도 횟수\nretry_delay = 3  # 재시도 간 지연 (초)\n\n# 날짜 범위에 따라 데이터를 요청\ncurrent_date = start_date\nwhile current_date <= end_date:\n    date_str = current_date.strftime(\"%Y%m%d\")\n    url = f\"{base_url}{date_str}\"\n    print(f\"Fetching data for date: {date_str}\")\n    \n    for attempt in range(max_retries):\n        try:\n            response = requests.get(url, timeout=10, headers={'User-Agent': 'Mozilla/5.0'})\n            if response.status_code == 200:\n                root = ET.fromstring(response.text)\n                items = root.findall(\".//list\")\n                if not items:  # 데이터가 없는 경우\n                    print(f\"No data found for date: {date_str}\")\n                    no_data_count += 1\n                    all_data.append({\"DATE\": date_str})\n                    if no_data_count >= 30:  # 30일 연속 데이터가 없으면 타임아웃\n                        print(\"No data found for 30 consecutive days. Stopping data collection.\")\n                        break\n                else:\n                    no_data_count = 0  # 데이터를 찾았으므로 카운트 초기화\n                    for item in items:\n                        all_data.append({\n                            \"DATE\": date_str,\n                            \"SITE\": item.find(\"SITE\").text if item.find(\"SITE\") is not None else \"\",\n                            \"PM10\": item.find(\"PM10\").text if item.find(\"PM10\") is not None else \"\",\n                            \"TEMP\": item.find(\"TEMP\").text if item.find(\"TEMP\") is not None else \"\",\n                            # 필요한 다른 데이터 필드 추가\n                        })\n                break\n            else:\n                print(f\"Failed to fetch data for date: {date_str}, status code: {response.status_code}\")\n        except requests.exceptions.RequestException as e:\n            print(f\"Attempt {attempt + 1} failed for date {date_str}: {e}\")\n            time.sleep(retry_delay)\n    else:\n        print(f\"Max retries exceeded for date: {date_str}\")\n    \n    # 다음 날짜로 이동\n    current_date += timedelta(days=1)\n    time.sleep(1)  # 요청 간 지연 추가\n\n# 데이터프레임 생성\ndf = pd.DataFrame(all_data)\n\nprint(df)",
			"metadata": {
				"trusted": true,
				"tags": []
			},
			"execution_count": 5,
			"outputs": [
				{
					"name": "stdout",
					"text": "Fetching data for date: 20240101\nFetching data for date: 20240102\nFetching data for date: 20240103\nFetching data for date: 20240104\nFetching data for date: 20240105\nFetching data for date: 20240106\nFetching data for date: 20240107\nFetching data for date: 20240108\nFetching data for date: 20240109\nFetching data for date: 20240110\nFetching data for date: 20240111\nFetching data for date: 20240112\nFetching data for date: 20240113\nFetching data for date: 20240114\nFetching data for date: 20240115\nFetching data for date: 20240116\nFetching data for date: 20240117\nFetching data for date: 20240118\nFetching data for date: 20240119\nFetching data for date: 20240120\nFetching data for date: 20240121\nFetching data for date: 20240122\nFetching data for date: 20240123\nFetching data for date: 20240124\nFetching data for date: 20240125\nFetching data for date: 20240126\nFetching data for date: 20240127\nFetching data for date: 20240128\nFetching data for date: 20240129\nFetching data for date: 20240130\nFetching data for date: 20240131\nFetching data for date: 20240201\nFetching data for date: 20240202\nFetching data for date: 20240203\nFetching data for date: 20240204\nFetching data for date: 20240205\nFetching data for date: 20240206\nFetching data for date: 20240207\nFetching data for date: 20240208\nFetching data for date: 20240209\nFetching data for date: 20240210\nFetching data for date: 20240211\nFetching data for date: 20240212\nFetching data for date: 20240213\nFetching data for date: 20240214\nFetching data for date: 20240215\nFetching data for date: 20240216\nFetching data for date: 20240217\nFetching data for date: 20240218\nFetching data for date: 20240219\nFetching data for date: 20240220\nFetching data for date: 20240221\nFetching data for date: 20240222\nFetching data for date: 20240223\nFetching data for date: 20240224\nFetching data for date: 20240225\nFetching data for date: 20240226\nFetching data for date: 20240227\nFetching data for date: 20240228\nFetching data for date: 20240229\nFetching data for date: 20240301\nFetching data for date: 20240302\nFetching data for date: 20240303\nFetching data for date: 20240304\nFetching data for date: 20240305\nFetching data for date: 20240306\nFetching data for date: 20240307\nFetching data for date: 20240308\nFetching data for date: 20240309\nFetching data for date: 20240310\nFetching data for date: 20240311\nFetching data for date: 20240312\nFetching data for date: 20240313\nFetching data for date: 20240314\nFetching data for date: 20240315\nFetching data for date: 20240316\nFetching data for date: 20240317\nFetching data for date: 20240318\nFetching data for date: 20240319\nFetching data for date: 20240320\nFetching data for date: 20240321\nFetching data for date: 20240322\nFetching data for date: 20240323\nFetching data for date: 20240324\nFetching data for date: 20240325\nFetching data for date: 20240326\nFetching data for date: 20240327\nFetching data for date: 20240328\nFetching data for date: 20240329\nFetching data for date: 20240330\nFetching data for date: 20240331\nFetching data for date: 20240401\nFetching data for date: 20240402\nFetching data for date: 20240403\nFetching data for date: 20240404\nFetching data for date: 20240405\nFetching data for date: 20240406\nFetching data for date: 20240407\nFetching data for date: 20240408\nFetching data for date: 20240409\nFetching data for date: 20240410\nFetching data for date: 20240411\nFetching data for date: 20240412\nFetching data for date: 20240413\nFetching data for date: 20240414\nFetching data for date: 20240415\nFetching data for date: 20240416\nFetching data for date: 20240417\nFetching data for date: 20240418\nFetching data for date: 20240419\nFetching data for date: 20240420\nFetching data for date: 20240421\nFetching data for date: 20240422\nFetching data for date: 20240423\nFetching data for date: 20240424\nFetching data for date: 20240425\nFetching data for date: 20240426\nFetching data for date: 20240427\nFetching data for date: 20240428\nFetching data for date: 20240429\nFetching data for date: 20240430\nFetching data for date: 20240501\nFetching data for date: 20240502\nFetching data for date: 20240503\nFetching data for date: 20240504\nFetching data for date: 20240505\nFetching data for date: 20240506\nFetching data for date: 20240507\nFetching data for date: 20240508\nFetching data for date: 20240509\nFetching data for date: 20240510\nFetching data for date: 20240511\nFetching data for date: 20240512\nFetching data for date: 20240513\nFetching data for date: 20240514\nFetching data for date: 20240515\nFetching data for date: 20240516\nFetching data for date: 20240517\nFetching data for date: 20240518\nFetching data for date: 20240519\nFetching data for date: 20240520\nFetching data for date: 20240521\nFetching data for date: 20240522\nFetching data for date: 20240523\nFetching data for date: 20240524\nFetching data for date: 20240525\nFetching data for date: 20240526\nFetching data for date: 20240527\nFetching data for date: 20240528\nFetching data for date: 20240529\nFetching data for date: 20240530\nFetching data for date: 20240531\nFetching data for date: 20240601\nFetching data for date: 20240602\nFetching data for date: 20240603\nFetching data for date: 20240604\nFetching data for date: 20240605\nFetching data for date: 20240606\nFetching data for date: 20240607\nFetching data for date: 20240608\nFetching data for date: 20240609\nFetching data for date: 20240610\nFetching data for date: 20240611\nFetching data for date: 20240612\nFetching data for date: 20240613\nFetching data for date: 20240614\nFetching data for date: 20240615\nFetching data for date: 20240616\nFetching data for date: 20240617\nFetching data for date: 20240618\nFetching data for date: 20240619\nFetching data for date: 20240620\nFetching data for date: 20240621\nFetching data for date: 20240622\nFetching data for date: 20240623\nFetching data for date: 20240624\nFetching data for date: 20240625\nFetching data for date: 20240626\nFetching data for date: 20240627\nFetching data for date: 20240628\nFetching data for date: 20240629\nFetching data for date: 20240630\nFetching data for date: 20240701\nFetching data for date: 20240702\nFetching data for date: 20240703\nFetching data for date: 20240704\nFetching data for date: 20240705\nFetching data for date: 20240706\nFetching data for date: 20240707\nFetching data for date: 20240708\nFetching data for date: 20240709\nFetching data for date: 20240710\nFetching data for date: 20240711\nFetching data for date: 20240712\nFetching data for date: 20240713\nFetching data for date: 20240714\nFetching data for date: 20240715\nFetching data for date: 20240716\nFetching data for date: 20240717\nFetching data for date: 20240718\nFetching data for date: 20240719\nFetching data for date: 20240720\nFetching data for date: 20240721\nFetching data for date: 20240722\nFetching data for date: 20240723\nFetching data for date: 20240724\nFetching data for date: 20240725\nFetching data for date: 20240726\nFetching data for date: 20240727\nFetching data for date: 20240728\nFetching data for date: 20240729\nFetching data for date: 20240730\nFetching data for date: 20240731\nFetching data for date: 20240801\nFetching data for date: 20240802\nFetching data for date: 20240803\nFetching data for date: 20240804\nFetching data for date: 20240805\nFetching data for date: 20240806\nFetching data for date: 20240807\nFetching data for date: 20240808\nFetching data for date: 20240809\nFetching data for date: 20240810\nFetching data for date: 20240811\nFetching data for date: 20240812\nFetching data for date: 20240813\nFetching data for date: 20240814\nFetching data for date: 20240815\nFetching data for date: 20240816\nFetching data for date: 20240817\nFetching data for date: 20240818\nFetching data for date: 20240819\nFetching data for date: 20240820\nFetching data for date: 20240821\nFetching data for date: 20240822\nFetching data for date: 20240823\nFetching data for date: 20240824\nFetching data for date: 20240825\nFetching data for date: 20240826\nFetching data for date: 20240827\nFetching data for date: 20240828\nFetching data for date: 20240829\nFetching data for date: 20240830\nFetching data for date: 20240831\nFetching data for date: 20240901\nFetching data for date: 20240902\nFetching data for date: 20240903\nFetching data for date: 20240904\nFetching data for date: 20240905\nFetching data for date: 20240906\nFetching data for date: 20240907\nFetching data for date: 20240908\nFetching data for date: 20240909\nFetching data for date: 20240910\nFetching data for date: 20240911\nFetching data for date: 20240912\nFetching data for date: 20240913\nFetching data for date: 20240914\nFetching data for date: 20240915\nFetching data for date: 20240916\nFetching data for date: 20240917\nFetching data for date: 20240918\nFetching data for date: 20240919\nFetching data for date: 20240920\nFetching data for date: 20240921\nFetching data for date: 20240922\nFetching data for date: 20240923\nFetching data for date: 20240924\nFetching data for date: 20240925\nFetching data for date: 20240926\nFetching data for date: 20240927\nFetching data for date: 20240928\nFetching data for date: 20240929\nFetching data for date: 20240930\nFetching data for date: 20241001\nFetching data for date: 20241002\nFetching data for date: 20241003\nFetching data for date: 20241004\nFetching data for date: 20241005\nFetching data for date: 20241006\nFetching data for date: 20241007\nFetching data for date: 20241008\nFetching data for date: 20241009\nFetching data for date: 20241010\nFetching data for date: 20241011\nFetching data for date: 20241012\nFetching data for date: 20241013\nFetching data for date: 20241014\nFetching data for date: 20241015\nFetching data for date: 20241016\nFetching data for date: 20241017\nFetching data for date: 20241018\nFetching data for date: 20241019\nFetching data for date: 20241020\nFetching data for date: 20241021\nFetching data for date: 20241022\nFetching data for date: 20241023\nFetching data for date: 20241024\nFetching data for date: 20241025\nFetching data for date: 20241026\nFetching data for date: 20241027\nFetching data for date: 20241028\nFetching data for date: 20241029\nFetching data for date: 20241030\nFetching data for date: 20241031\nFetching data for date: 20241101\nFetching data for date: 20241102\nFetching data for date: 20241103\nFetching data for date: 20241104\nFetching data for date: 20241105\nFetching data for date: 20241106\nFetching data for date: 20241107\nFetching data for date: 20241108\nFetching data for date: 20241109\nFetching data for date: 20241110\nFetching data for date: 20241111\nFetching data for date: 20241112\nFetching data for date: 20241113\nFetching data for date: 20241114\nFetching data for date: 20241115\nFetching data for date: 20241116\nFetching data for date: 20241117\nFetching data for date: 20241118\nFetching data for date: 20241119\nFetching data for date: 20241120\nFetching data for date: 20241121\nFetching data for date: 20241122\nFetching data for date: 20241123\nFetching data for date: 20241124\nFetching data for date: 20241125\nFetching data for date: 20241126\nFetching data for date: 20241127\nFetching data for date: 20241128\nFetching data for date: 20241129\nFetching data for date: 20241130\nFetching data for date: 20241201\nFetching data for date: 20241202\nFetching data for date: 20241203\nFetching data for date: 20241204\nFetching data for date: 20241205\nFetching data for date: 20241206\nFetching data for date: 20241207\nFetching data for date: 20241208\nFetching data for date: 20241209\nFetching data for date: 20241210\nFetching data for date: 20241211\nFetching data for date: 20241212\nFetching data for date: 20241213\nFetching data for date: 20241214\nFetching data for date: 20241215\nFetching data for date: 20241216\nFetching data for date: 20241217\nFetching data for date: 20241218\nFetching data for date: 20241219\nFetching data for date: 20241220\nFetching data for date: 20241221\nFetching data for date: 20241222\nFetching data for date: 20241223\nFetching data for date: 20241224\nFetching data for date: 20241225\nFetching data for date: 20241226\nFetching data for date: 20241227\nFetching data for date: 20241228\nFetching data for date: 20241229\nFetching data for date: 20241230\nFetching data for date: 20241231\nFetching data for date: 20250101\nFetching data for date: 20250102\nFetching data for date: 20250103\nFetching data for date: 20250104\nFetching data for date: 20250105\nFetching data for date: 20250106\nFetching data for date: 20250107\nFetching data for date: 20250108\nFetching data for date: 20250109\n            DATE SITE PM10 TEMP\n0       20240101  712   28     \n1       20240101  723   29     \n2       20240101  721   27     \n3       20240101  725   23     \n4       20240101  716   31     \n...          ...  ...  ...  ...\n107299  20250109  713   27     \n107300  20250109  801   22     \n107301  20250109  716   25     \n107302  20250109  724   23     \n107303  20250109  714   27     \n\n[107304 rows x 4 columns]\n",
					"output_type": "stream"
				}
			]
		},
		{
			"cell_type": "code",
			"source": "# AWS S3 버킷에 업로드할 설정\nbucket_name = 'airflow-test001'\nfile_name = f'data/jeju-air-info/jeju-air-info{start_date}.csv'",
			"metadata": {
				"trusted": true,
				"tags": []
			},
			"execution_count": 6,
			"outputs": [
				{
					"name": "stdout",
					"text": "\n",
					"output_type": "stream"
				}
			]
		},
		{
			"cell_type": "code",
			"source": "#boto3 s3 클라이언트 생성\ns3_client=boto3.client('s3')\n\n#DataFrame을 CSV 형식으로 StringIO 객체에 저장\ncsv_buffer=StringIO()\ndf.to_csv(csv_buffer, index=False)\n\n\n#버킷에 업로드\ncsv_buffer.seek(0) #파일 시작 위치로 이동\ns3_client.put_object(Bucket=bucket_name, Key=file_name, Body=csv_buffer.getvalue())\n\nprint(f\"파일이 {bucket_name} 버킷에 {file_name}로 업로드되었습니다.\")",
			"metadata": {
				"trusted": true,
				"tags": []
			},
			"execution_count": 12,
			"outputs": [
				{
					"name": "stdout",
					"text": "??? airflow-test001 ??? data/jeju-air-info/jeju-air-info.csv? ????????.\n",
					"output_type": "stream"
				}
			]
		}
	]
}