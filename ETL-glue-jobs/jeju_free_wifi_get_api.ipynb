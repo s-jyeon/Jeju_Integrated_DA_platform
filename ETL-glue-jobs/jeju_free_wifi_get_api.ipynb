{
	"cells": [
		{
			"cell_type": "code",
			"execution_count": 31,
			"metadata": {
				"editable": true,
				"trusted": true,
				"vscode": {
					"languageId": "python_glue_session"
				}
			},
			"outputs": [
				{
					"name": "stderr",
					"output_type": "stream",
					"text": [
						"You are already connected to a glueetl session a9e44e2c-9ce0-462b-94e2-6a29719b7690.\n",
						"\n",
						"No change will be made to the current session that is set as glueetl. The session configuration change will apply to newly created sessions.\n"
					]
				},
				{
					"name": "stdout",
					"output_type": "stream",
					"text": [
						"Current idle_timeout is 2880 minutes.\n",
						"idle_timeout has been set to 2880 minutes.\n"
					]
				},
				{
					"name": "stderr",
					"output_type": "stream",
					"text": [
						"You are already connected to a glueetl session a9e44e2c-9ce0-462b-94e2-6a29719b7690.\n",
						"\n",
						"No change will be made to the current session that is set as glueetl. The session configuration change will apply to newly created sessions.\n"
					]
				},
				{
					"name": "stdout",
					"output_type": "stream",
					"text": [
						"Setting Glue version to: 5.0\n"
					]
				},
				{
					"name": "stderr",
					"output_type": "stream",
					"text": [
						"You are already connected to a glueetl session a9e44e2c-9ce0-462b-94e2-6a29719b7690.\n",
						"\n",
						"No change will be made to the current session that is set as glueetl. The session configuration change will apply to newly created sessions.\n"
					]
				},
				{
					"name": "stdout",
					"output_type": "stream",
					"text": [
						"Previous worker type: G.1X\n",
						"Setting new worker type to: G.1X\n"
					]
				},
				{
					"name": "stderr",
					"output_type": "stream",
					"text": [
						"You are already connected to a glueetl session a9e44e2c-9ce0-462b-94e2-6a29719b7690.\n",
						"\n",
						"No change will be made to the current session that is set as glueetl. The session configuration change will apply to newly created sessions.\n"
					]
				},
				{
					"name": "stdout",
					"output_type": "stream",
					"text": [
						"Previous number of workers: 5\n",
						"Setting new number of workers to: 5\n",
						"\n"
					]
				}
			],
			"source": [
				"%idle_timeout 2880\n",
				"%glue_version 5.0\n",
				"%worker_type G.1X\n",
				"%number_of_workers 5\n",
				"\n",
				"import sys\n",
				"import pandas as pd\n",
				"from awsglue.transforms import *\n",
				"from awsglue.utils import getResolvedOptions\n",
				"from pyspark.context import SparkContext\n",
				"from awsglue.context import GlueContext\n",
				"from awsglue.job import Job\n",
				"  \n",
				"sc = SparkContext.getOrCreate()\n",
				"glueContext = GlueContext(sc)\n",
				"spark = glueContext.spark_session\n",
				"job = Job(glueContext)"
			]
		},
		{
			"cell_type": "code",
			"execution_count": 32,
			"metadata": {
				"tags": [],
				"trusted": true,
				"vscode": {
					"languageId": "python_glue_session"
				}
			},
			"outputs": [
				{
					"name": "stdout",
					"output_type": "stream",
					"text": [
						"\n"
					]
				}
			],
			"source": [
				"#제주 와이파이 정보\n",
				"your_appkey='jb1rjp6ebre0r6_2t32c14r11p1cc36b'  \n",
				"BASE_URL = f\"https://open.jejudatahub.net/api/proxy/Dtb18ta1btbD1Da1a81aaDttab6tDabb/{your_appkey}\""
			]
		},
		{
			"cell_type": "code",
			"execution_count": 33,
			"metadata": {
				"tags": [],
				"trusted": true,
				"vscode": {
					"languageId": "python_glue_session"
				}
			},
			"outputs": [
				{
					"name": "stdout",
					"output_type": "stream",
					"text": [
						"\n"
					]
				}
			],
			"source": [
				"import requests\n",
				"import csv\n",
				"import boto3\n",
				"import json\n",
				"from io import StringIO\n",
				"from datetime import datetime, timedelta"
			]
		},
		{
			"cell_type": "code",
			"execution_count": 34,
			"metadata": {
				"tags": [],
				"trusted": true,
				"vscode": {
					"languageId": "python_glue_session"
				}
			},
			"outputs": [
				{
					"name": "stdout",
					"output_type": "stream",
					"text": [
						"\n"
					]
				}
			],
			"source": [
				"response = requests.get(BASE_URL)"
			]
		},
		{
			"cell_type": "code",
			"execution_count": 35,
			"metadata": {
				"tags": [],
				"trusted": true,
				"vscode": {
					"languageId": "python_glue_session"
				}
			},
			"outputs": [
				{
					"name": "stdout",
					"output_type": "stream",
					"text": [
						"\n"
					]
				}
			],
			"source": [
				"data = response.json()\n",
				"#print(data)"
			]
		},
		{
			"cell_type": "code",
			"execution_count": 36,
			"metadata": {
				"tags": [],
				"trusted": true,
				"vscode": {
					"languageId": "python_glue_session"
				}
			},
			"outputs": [
				{
					"name": "stdout",
					"output_type": "stream",
					"text": [
						"[{'baseDate': '20250108', 'macAddress': '99c897e3cf81d25b29a8100d398c5f0e28564e9ae72f8bf5a1d0faa2fec2c851', 'apGroupName': '김만덕객주', 'installLocationDetail': '입구 동쪽 IP주 상단', 'category': '관광지', 'categoryDetail': '공영관광지', 'addressDong': '제주특별자치도 제주시 건입동', 'addressDetail': '제주시 건입동 1297', 'latitude': '33.516659', 'longitude': '126.532184'}, {'baseDate': '20250108', 'macAddress': 'fcf8ff56c9dbd5a796116ecf49f79aac83fd6077fefbaa17cfad9c768e1a2fe0', 'apGroupName': '전기차충전소_삼양동 공영주차장', 'installLocationDetail': '전기차충전소인근 CCTV', 'category': '전기차충전소', 'categoryDetail': '전기차충전소', 'addressDong': '제주특별자치도 제주시 삼양이동', 'addressDetail': '제주시 삼양이동 2176-13', 'latitude': '33.519921', 'longitude': '126.5828'}, {'baseDate': '20250108', 'macAddress': '6d1d572c5a666c18b18d2b41200d5a4e09d339c75932f7355004434174f924a6', 'apGroupName': '제주민속오일장', 'installLocationDetail': '남쪽입구 화장실 처마', 'category': '전통시장', 'categoryDetail': '전통시장', 'addressDong': '제주특별자치도 제주시 도두일동', 'addressDetail': '제주시 도두일동 1212(오일장서길 26)', 'latitude': '33.49613', 'longitude': '126.476051'}, {'baseDate': '20250108', 'macAddress': 'a66c1ffa602c1109b990897c920ca1fff6e168fbcc273b9241f1b2ce5dbd7244', 'apGroupName': '17호공원', 'installLocationDetail': 'CCTV POLE', 'category': '공원', 'categoryDetail': '공원', 'addressDong': '제주특별자치도 제주시 일도이동', 'addressDetail': '제주시 일도이동 372-18(천수동로2길 29)', 'latitude': '33.50815', 'longitude': '126.543685'}, {'baseDate': '20250108', 'macAddress': '8e3ff26e3d0c78fd64aa343230e0d3e4d433492bdd7ca28e6817f3579268495f', 'apGroupName': '42호공원', 'installLocationDetail': 'CCTV POLE', 'category': '공원', 'categoryDetail': '공원', 'addressDong': '제주특별자치도 제주시 일도이동', 'addressDetail': '제주시 일도이동 87-12(태성로3길 15)', 'latitude': '33.500051', 'longitude': '126.547247'}, {'baseDate': '20250108', 'macAddress': '437e6c83d57111fa9fc5ce5f7ac00b328679ee15c19adb366ab7ea2775ed6a11', 'apGroupName': '버스정류소_평대초등학교_(평대리사무소방면)_[405001320]', 'installLocationDetail': '정류장천정', 'category': '버스정류소', 'categoryDetail': '버스정류소', 'addressDong': '제주특별자치도 제주시 구좌읍 평대리', 'addressDetail': '제주시 구좌읍 평대리 1719-8', 'latitude': '33.529335', 'longitude': '126.83897'}, {'baseDate': '20250108', 'macAddress': '66b1c80eedcc5c9cee478704a2b6e0ae6920bdfb1d68210a2ae482bcfbae054e', 'apGroupName': '제주종합경기장', 'installLocationDetail': '관리소 우측 세번째 가로등', 'category': '체육시설', 'categoryDetail': '체육시설', 'addressDong': '제주특별자치도 제주시 오라일동', 'addressDetail': '제주시 오라일동 1137(서광로2길 24)', 'latitude': '33.495188', 'longitude': '126.517261'}, {'baseDate': '20250108', 'macAddress': '9b08709685d1de8edc2b20711b714dcd82dbfedf777493e5d3300229764d605a', 'apGroupName': '함덕1호어린이공원', 'installLocationDetail': 'CCTV POLE', 'category': '공원', 'categoryDetail': '공원', 'addressDong': '제주특별자치도 제주시 조천읍 함덕리', 'addressDetail': '제주시 조천읍 함덕리 4154-3', 'latitude': '33.539427', 'longitude': '126.6755'}, {'baseDate': '20250108', 'macAddress': '456ecae323ec0b93238771a589d67a2cf448e17a2d351c12c6febe553127672f', 'apGroupName': '누웨모루거리(구 바오젠거리)', 'installLocationDetail': '사거리 주차단속 CCTV 폴', 'category': '테마거리', 'categoryDetail': '테마거리', 'addressDong': '제주특별자치도 제주시 연동', 'addressDetail': '제주시 연동 273-10(신대로16길 56)', 'latitude': '33.487184', 'longitude': '126.490714'}, {'baseDate': '20250108', 'macAddress': 'da33d721e94ba91a5853a35741af6bb460ad904d62bb35ff5f040a343d1fdb07', 'apGroupName': '전기차충전소_노형삼다아파트 앞 공영주차장', 'installLocationDetail': '전기차충전소인근 IP주', 'category': '전기차충전소', 'categoryDetail': '전기차충전소', 'addressDong': '제주특별자치도 제주시 노형동', 'addressDetail': '제주시 노형동 1282-1', 'latitude': '33.48637', 'longitude': '126.47748'}]\n"
					]
				}
			],
			"source": [
				"data_list=data.get(\"data\", [])\n",
				"print(data_list)"
			]
		},
		{
			"cell_type": "code",
			"execution_count": 37,
			"metadata": {
				"tags": [],
				"trusted": true,
				"vscode": {
					"languageId": "python_glue_session"
				}
			},
			"outputs": [
				{
					"name": "stdout",
					"output_type": "stream",
					"text": [
						"\n"
					]
				}
			],
			"source": [
				"df=pd.DataFrame(data_list)\n",
				"# spark_df=spark.createDataFrame(df)"
			]
		},
		{
			"cell_type": "code",
			"execution_count": null,
			"metadata": {
				"vscode": {
					"languageId": "python"
				}
			},
			"outputs": [],
			"source": [
				"start_date = datetime.today() - timedelta(days=2)\n",
				"end_date = datetime.today()  # 오늘 날짜"
			]
		},
		{
			"cell_type": "code",
			"execution_count": 43,
			"metadata": {
				"tags": [],
				"trusted": true,
				"vscode": {
					"languageId": "python_glue_session"
				}
			},
			"outputs": [
				{
					"name": "stdout",
					"output_type": "stream",
					"text": [
						"\n"
					]
				}
			],
			"source": [
				"#write spark dataframe to single csv file in s3\n",
				"bucket_name = 'ip-jeju-airflow'\n",
				"file_name = f'data/raw/jeju_public_free_wifi/jeju_public_free_wifi_{start_date}.csv'\n",
				"\n",
				"#boto3 s3 클라이언트 생성\n",
				"s3_client=boto3.client('s3')\n",
				"\n",
				"#DataFrame을 CSV 형식으로 StringIO 객체에 저장\n",
				"csv_buffer=StringIO()\n",
				"df.to_csv(csv_buffer, index=False)\n",
				"s3_client.put_object(Bucket=bucket_name, Key=file_name, Body=csv_buffer.getvalue())\n",
				"# spark_df.coalesce(1).write.csv(output_path, header=True, mode=\"overwrite\")"
			]
		},
		{
			"cell_type": "code",
			"execution_count": null,
			"metadata": {
				"vscode": {
					"languageId": "python_glue_session"
				}
			},
			"outputs": [],
			"source": [
				"# Print confirmation\n",
				"print(f\"Data successfully written to {output_path} as a single file\")"
			]
		}
	],
	"metadata": {
		"kernelspec": {
			"display_name": "Glue PySpark",
			"language": "python",
			"name": "glue_pyspark"
		},
		"language_info": {
			"codemirror_mode": {
				"name": "python",
				"version": 3
			},
			"file_extension": ".py",
			"mimetype": "text/x-python",
			"name": "Python_Glue_Session",
			"pygments_lexer": "python3"
		}
	},
	"nbformat": 4,
	"nbformat_minor": 4
}
