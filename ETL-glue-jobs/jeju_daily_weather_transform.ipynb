{
	"metadata": {
		"kernelspec": {
			"name": "glue_pyspark",
			"display_name": "Glue PySpark",
			"language": "python"
		},
		"language_info": {
			"name": "Python_Glue_Session",
			"mimetype": "text/x-python",
			"codemirror_mode": {
				"name": "python",
				"version": 3
			},
			"pygments_lexer": "python3",
			"file_extension": ".py"
		}
	},
	"nbformat_minor": 4,
	"nbformat": 4,
	"cells": [
		{
			"cell_type": "code",
			"source": "%idle_timeout 2880\n%glue_version 5.0\n%worker_type G.1X\n%number_of_workers 5\n\nimport sys\nfrom awsglue.transforms import *\nfrom awsglue.utils import getResolvedOptions\nfrom pyspark.context import SparkContext\nfrom awsglue.context import GlueContext\nfrom awsglue.job import Job\n  \nsc = SparkContext.getOrCreate()\nglueContext = GlueContext(sc)\nspark = glueContext.spark_session\njob = Job(glueContext)",
			"metadata": {
				"trusted": true,
				"editable": true
			},
			"execution_count": 2,
			"outputs": [
				{
					"name": "stderr",
					"text": "You are already connected to a glueetl session 977457e8-9911-4d4d-b565-a2e10567eb9d.\n\nNo change will be made to the current session that is set as glueetl. The session configuration change will apply to newly created sessions.\n",
					"output_type": "stream"
				},
				{
					"name": "stdout",
					"text": "Current idle_timeout is None minutes.\nidle_timeout has been set to 2880 minutes.\n",
					"output_type": "stream"
				},
				{
					"name": "stderr",
					"text": "You are already connected to a glueetl session 977457e8-9911-4d4d-b565-a2e10567eb9d.\n\nNo change will be made to the current session that is set as glueetl. The session configuration change will apply to newly created sessions.\n",
					"output_type": "stream"
				},
				{
					"name": "stdout",
					"text": "Setting Glue version to: 5.0\n",
					"output_type": "stream"
				},
				{
					"name": "stderr",
					"text": "You are already connected to a glueetl session 977457e8-9911-4d4d-b565-a2e10567eb9d.\n\nNo change will be made to the current session that is set as glueetl. The session configuration change will apply to newly created sessions.\n",
					"output_type": "stream"
				},
				{
					"name": "stdout",
					"text": "Previous worker type: None\nSetting new worker type to: G.1X\n",
					"output_type": "stream"
				},
				{
					"name": "stderr",
					"text": "You are already connected to a glueetl session 977457e8-9911-4d4d-b565-a2e10567eb9d.\n\nNo change will be made to the current session that is set as glueetl. The session configuration change will apply to newly created sessions.\n",
					"output_type": "stream"
				},
				{
					"name": "stdout",
					"text": "Previous number of workers: None\nSetting new number of workers to: 5\n\n",
					"output_type": "stream"
				}
			]
		},
		{
			"cell_type": "code",
			"source": "#glue data catalog에서 테이블 읽어오기\ndynamic_frame = glueContext.create_dynamic_frame.from_catalog(\n    database=\"final_raw_data\",  # Glue에서 정의된 데이터베이스 이름\n    table_name=\"jeju_daily_weather\",    # Glue에서 정의된 테이블 이름\n    transformation_ctx=\"dynamic_frame\"\n)\n\n# DynamicFrame을 DataFrame으로 변환\ndf = dynamic_frame.toDF()\n\n# DataFrame에서 데이터를 조회\ndf.show(10)\n",
			"metadata": {
				"trusted": true,
				"tags": []
			},
			"execution_count": 3,
			"outputs": [
				{
					"name": "stdout",
					"text": "+---------------+--------+------------------+-----------------+---------------------+------------------+----------------------+-------------+----------------+--------------------+----------------+-------------------------+----------+\n|observatoryname|basedate|averagetemperature|lowesttemperature|lowesttemperaturetime|highesttemperature|highesttemperaturetime|dailyrainfall|maximumwindspeed|maximumwindspeedtime|averagewindspeed|maximumwindspeeddirection|searchdate|\n+---------------+--------+------------------+-----------------+---------------------+------------------+----------------------+-------------+----------------+--------------------+----------------+-------------------------+----------+\n|         마라도|20140101|              11.9|             10.7|                  718|              13.0|                  1451|          0.0|            14.8|                  21|             7.6|                    323.1|  20140101|\n|       제주남원|20140101|              10.2|              5.2|                  737|              13.9|                  1211|          0.0|             9.6|                1259|             2.6|                    270.0|  20140101|\n|           구좌|20140101|               9.1|              6.3|                 1912|              11.6|                  1426|          0.0|            13.7|                 151|             5.5|                    306.7|  20140101|\n|           서광|20140101|               8.6|              6.2|                 2205|              12.2|                  1438|          0.0|             9.8|                1302|             2.7|                    293.8|  20140101|\n|         어리목|20140101|               0.6|             -1.6|                 1853|               3.5|                  1507|          0.0|             9.5|                1304|             2.1|                    248.2|  20140101|\n|           중문|20140101|               9.1|              6.0|                 2052|              13.2|                  1348|          0.0|             5.2|                1246|             1.6|                    316.3|  20140101|\n|           대흘|20140101|               8.1|              5.9|                 2255|              11.7|                  1415|          0.0|            11.1|                1041|             3.6|                    309.4|  20140101|\n|           강정|20140101|               8.8|              6.3|                  437|              12.3|                  1318|          0.0|            11.4|                1154|             3.5|                    258.8|  20140101|\n|           대정|20140101|              10.6|              6.6|                 2235|              13.5|                  1345|          0.0|            10.2|                  13|             3.3|                    296.2|  20140101|\n|       진달래밭|20140101|              -3.0|             -4.6|                  757|              -1.7|                  1417|          0.0|            15.0|                  32|             5.4|                    312.0|  20140101|\n+---------------+--------+------------------+-----------------+---------------------+------------------+----------------------+-------------+----------------+--------------------+----------------+-------------------------+----------+\nonly showing top 10 rows\n\n/opt/amazon/spark/python/lib/pyspark.zip/pyspark/sql/dataframe.py:127: UserWarning: DataFrame constructor is internal. Do not directly use it.\n",
					"output_type": "stream"
				}
			]
		},
		{
			"cell_type": "code",
			"source": "from pyspark.sql.functions import col, to_date, date_format, format_number\n\ndf = df.withColumn(\"searchdate\",\n                   to_date(col(\"searchdate\").cast(\"string\"), \"yyyyMMdd\")\n                  ).withColumn(\"basedate\",\n                               to_date(col(\"basedate\").cast(\"string\"), \"yyyyMMdd\")\n                              )\ndf.show(10)\n                   ",
			"metadata": {
				"trusted": true,
				"tags": []
			},
			"execution_count": 10,
			"outputs": [
				{
					"name": "stdout",
					"text": "+---------------+----------+------------------+-----------------+---------------------+------------------+----------------------+-------------+----------------+--------------------+----------------+-------------------------+----------+\n|observatoryname|  basedate|averagetemperature|lowesttemperature|lowesttemperaturetime|highesttemperature|highesttemperaturetime|dailyrainfall|maximumwindspeed|maximumwindspeedtime|averagewindspeed|maximumwindspeeddirection|searchdate|\n+---------------+----------+------------------+-----------------+---------------------+------------------+----------------------+-------------+----------------+--------------------+----------------+-------------------------+----------+\n|         마라도|2014-01-01|              11.9|             10.7|                  718|              13.0|                  1451|          0.0|            14.8|                  21|             7.6|                    323.1|2014-01-01|\n|       제주남원|2014-01-01|              10.2|              5.2|                  737|              13.9|                  1211|          0.0|             9.6|                1259|             2.6|                    270.0|2014-01-01|\n|           구좌|2014-01-01|               9.1|              6.3|                 1912|              11.6|                  1426|          0.0|            13.7|                 151|             5.5|                    306.7|2014-01-01|\n|           서광|2014-01-01|               8.6|              6.2|                 2205|              12.2|                  1438|          0.0|             9.8|                1302|             2.7|                    293.8|2014-01-01|\n|         어리목|2014-01-01|               0.6|             -1.6|                 1853|               3.5|                  1507|          0.0|             9.5|                1304|             2.1|                    248.2|2014-01-01|\n|           중문|2014-01-01|               9.1|              6.0|                 2052|              13.2|                  1348|          0.0|             5.2|                1246|             1.6|                    316.3|2014-01-01|\n|           대흘|2014-01-01|               8.1|              5.9|                 2255|              11.7|                  1415|          0.0|            11.1|                1041|             3.6|                    309.4|2014-01-01|\n|           강정|2014-01-01|               8.8|              6.3|                  437|              12.3|                  1318|          0.0|            11.4|                1154|             3.5|                    258.8|2014-01-01|\n|           대정|2014-01-01|              10.6|              6.6|                 2235|              13.5|                  1345|          0.0|            10.2|                  13|             3.3|                    296.2|2014-01-01|\n|       진달래밭|2014-01-01|              -3.0|             -4.6|                  757|              -1.7|                  1417|          0.0|            15.0|                  32|             5.4|                    312.0|2014-01-01|\n+---------------+----------+------------------+-----------------+---------------------+------------------+----------------------+-------------+----------------+--------------------+----------------+-------------------------+----------+\nonly showing top 10 rows\n",
					"output_type": "stream"
				}
			]
		},
		{
			"cell_type": "code",
			"source": "df.write.format(\"parquet\").mode(\"overwrite\").save(\"s3://airflow-test001/transformed_data/jeju-daily-weather/\")",
			"metadata": {},
			"execution_count": null,
			"outputs": []
		}
	]
}