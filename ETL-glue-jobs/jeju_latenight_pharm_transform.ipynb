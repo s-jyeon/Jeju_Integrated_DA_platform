{
	"metadata": {
		"kernelspec": {
			"name": "glue_pyspark",
			"display_name": "Glue PySpark",
			"language": "python"
		},
		"language_info": {
			"name": "Python_Glue_Session",
			"mimetype": "text/x-python",
			"codemirror_mode": {
				"name": "python",
				"version": 3
			},
			"pygments_lexer": "python3",
			"file_extension": ".py"
		}
	},
	"nbformat_minor": 4,
	"nbformat": 4,
	"cells": [
		{
			"cell_type": "code",
			"source": "from awsglue.context import GlueContext\nfrom awsglue.job import Job\nfrom pyspark.context import SparkContext\n\nsc = SparkContext.getOrCreate()\nglueContext = GlueContext(sc)\njob = Job(glueContext)",
			"metadata": {
				"trusted": true,
				"tags": []
			},
			"execution_count": 1,
			"outputs": [
				{
					"name": "stdout",
					"text": "Welcome to the Glue Interactive Sessions Kernel\nFor more information on available magic commands, please type %help in any new cell.\n\nPlease view our Getting Started page to access the most up-to-date information on the Interactive Sessions kernel: https://docs.aws.amazon.com/glue/latest/dg/interactive-sessions.html\nInstalled kernel version: 1.0.7 \nTrying to create a Glue session for the kernel.\nSession Type: glueetl\nSession ID: 064c4b62-7675-461e-9c80-65b7b8b21a6c\nApplying the following default arguments:\n--glue_kernel_version 1.0.7\n--enable-glue-datacatalog true\nWaiting for session 064c4b62-7675-461e-9c80-65b7b8b21a6c to get into ready status...\nSession 064c4b62-7675-461e-9c80-65b7b8b21a6c has been created.\n\n",
					"output_type": "stream"
				}
			]
		},
		{
			"cell_type": "code",
			"source": "# 두 테이블을 glue 데이터 카탈로그에서 DynamicFrame으로 로드\ntable1 = glueContext.create_dynamic_frame.from_catalog(\n    database = \"final_raw_data\",\n    table_name = \"jeju_latenight_pharmacy_2023\"\n)\n\n\ntable2 = glueContext.create_dynamic_frame.from_catalog(\n    database=\"final_raw_data\",\n    table_name = \"jeju_latenight_pharmacy_2019\"\n)",
			"metadata": {
				"trusted": true,
				"tags": []
			},
			"execution_count": 31,
			"outputs": [
				{
					"name": "stdout",
					"text": "\n",
					"output_type": "stream"
				}
			]
		},
		{
			"cell_type": "code",
			"source": "#DynamicFrame을 Spark DataFrame으로 변환\ndf1 = table1.toDF()\ndf2 = table2.toDF()",
			"metadata": {
				"trusted": true,
				"tags": []
			},
			"execution_count": 32,
			"outputs": [
				{
					"name": "stdout",
					"text": "/opt/amazon/spark/python/lib/pyspark.zip/pyspark/sql/dataframe.py:127: UserWarning: DataFrame constructor is internal. Do not directly use it.\n  warnings.warn(\"DataFrame constructor is internal. Do not directly use it.\")\n",
					"output_type": "stream"
				}
			]
		},
		{
			"cell_type": "code",
			"source": "df1 = df1.withColumnRenamed('col0', 'Data Reference Date') \\\n         .withColumnRenamed('col1', 'Address') \\\n         .withColumnRenamed('col2', 'Pharmacy Name') \\\n         .withColumnRenamed('col3', 'Contact Number') \\\n         .withColumnRenamed('col4', 'Operating DoW') \\\n         .withColumnRenamed('col5', 'Township/Village/Neighborhood') \\\n         .withColumnRenamed('col6', 'Administrative City')\n\n# 첫 번째 행을 제거\ndf1 = df1.filter(df1[\"Data Reference Date\"] != \"Data Reference Date\")\n\n# 결과 확인\ndf1.show(3)\n",
			"metadata": {
				"trusted": true,
				"tags": []
			},
			"execution_count": 33,
			"outputs": [
				{
					"name": "stdout",
					"text": "+-------------------+----------------------------------+-------------+--------------+------------------------------+-----------------------------+-------------------+\n|Data Reference Date|                           Address|Pharmacy Name|Contact Number|                 Operating DoW|Township/Village/Neighborhood|Administrative City|\n+-------------------+----------------------------------+-------------+--------------+------------------------------+-----------------------------+-------------------+\n|         2024-05-28|제주특별자치도 제주시 한림읍 한...|     현재약국|  064-796-9333|월+화+수+목+금+토(둘째·넷째...|                       한림읍|             제주시|\n|         2024-05-28|제주특별자치도 제주시 조천읍 신...|     영재약국|  064-783-1959|             월+화+수+목+금+토|                       조천읍|             제주시|\n|         2024-05-28|제주특별자치도 제주시 조천읍 신...|     조천약국|  064-783-8989|                      월+수+금|                       조천읍|             제주시|\n+-------------------+----------------------------------+-------------+--------------+------------------------------+-----------------------------+-------------------+\nonly showing top 3 rows\n",
					"output_type": "stream"
				}
			]
		},
		{
			"cell_type": "code",
			"source": "df2 = df2.withColumnRenamed('col0', 'Data Reference Date') \\\n         .withColumnRenamed('col1', 'Notes') \\\n         .withColumnRenamed('col2', 'Address') \\\n         .withColumnRenamed('col3', 'City/County') \\\n         .withColumnRenamed('col4', 'Pharmacy Name') \\\n         .withColumnRenamed('col5', 'Opening Time') \\\n         .withColumnRenamed('col6', 'Operating Days') \\\n         .withColumnRenamed('col7', 'Closing Time') \\\n         .withColumnRenamed('col8', 'Phone Number') \\\n         .withColumnRenamed('col9', 'Region')\n\n# 첫 번째 행을 컬럼으로 사용하고 첫 번째 행을 데이터에서 제거\nnew_columns = df2.first()  # 첫 번째 행을 컬럼 이름으로 사용\ndf2 = df2.filter(df2[\"Data Reference Date\"] != new_columns[\"Data Reference Date\"])  # 첫 번째 행 제거\n\n# 새로운 컬럼 이름을 사용하여 DataFrame 생성\ndf2 = df2.toDF(*new_columns)\n\n# 결과 확인\ndf2.show(3)\n\n",
			"metadata": {
				"trusted": true,
				"tags": []
			},
			"execution_count": 34,
			"outputs": [
				{
					"name": "stdout",
					"text": "+-------------------+------------+----------------------------------+-----------+-------------+------------+--------------------------+------------+------------+------+\n|Data Reference Date|       Notes|                           Address|City/County|Pharmacy Name|Opening Time|            Operating Days|Closing Time|Phone Number|Region|\n+-------------------+------------+----------------------------------+-----------+-------------+------------+--------------------------+------------+------------+------+\n|         2019-05-22|특이사항없음|제주특별자치도 제주시 한림읍 한...|     제주시|     현재약국|       20:00|일요일 및 법정 공휴일 제외|       23:00|064-796-9333|한림읍|\n|         2019-05-22|특이사항없음|제주특별자치도 제주시 조천읍 신...|     제주시|     영재약국|       20:00|일요일 및 법정 공휴일 제외|       23:00|064-783-1959|조천읍|\n|         2019-05-22|  월. 수. 금|제주특별자치도 제주시 조천읍 신...|     제주시|     조천약국|       20:00|일요일 및 법정 공휴일 제외|       23:00|064-783-8989|조천읍|\n+-------------------+------------+----------------------------------+-----------+-------------+------------+--------------------------+------------+------------+------+\nonly showing top 3 rows\n",
					"output_type": "stream"
				}
			]
		},
		{
			"cell_type": "code",
			"source": "df2 = df2.withColumnRenamed(\"Phone Number\", \"Contact Number\")\ndf2 = df2.withColumnRenamed(\"Region\", \"Township/Village/Neighborhood\")\n",
			"metadata": {
				"trusted": true,
				"tags": []
			},
			"execution_count": 35,
			"outputs": [
				{
					"name": "stdout",
					"text": "\n",
					"output_type": "stream"
				}
			]
		},
		{
			"cell_type": "code",
			"source": "merged_df = df1.join(df2, [\"Data Reference Date\", \"Address\", \"Pharmacy Name\", \"Contact Number\", \"Township/Village/Neighborhood\"], \"outer\")",
			"metadata": {
				"trusted": true,
				"tags": []
			},
			"execution_count": 36,
			"outputs": [
				{
					"name": "stdout",
					"text": "\n",
					"output_type": "stream"
				}
			]
		},
		{
			"cell_type": "code",
			"source": "from pyspark.sql.functions import col, when\nmerged_df = merged_df.withColumn(\"Operating Days\", when(col(\"Operating DoW\").isNull(), col(\"Operating Days\")).otherwise(col(\"Operating DoW\")))\nmerged_df = merged_df.withColumn(\"Administrative City\", when(col(\"Administrative City\").isNull(), col(\"City/County\")).otherwise(col(\"Administrative City\")))\n\nfinal_df = merged_df.select(\"Data Reference Date\", \"Address\", \"Pharmacy Name\", \"Contact Number\", \"Operating DoW\", \"Township/Village/Neighborhood\", \"Administrative City\", \n                            \"Notes\", \"Opening Time\", \"Closing Time\")",
			"metadata": {
				"trusted": true,
				"tags": []
			},
			"execution_count": 47,
			"outputs": [
				{
					"name": "stdout",
					"text": "\n",
					"output_type": "stream"
				}
			]
		},
		{
			"cell_type": "code",
			"source": "final_df.show()",
			"metadata": {
				"trusted": true,
				"tags": []
			},
			"execution_count": 48,
			"outputs": [
				{
					"name": "stdout",
					"text": "+-------------------+-----------------------------------+-------------+--------------+------------------------------+-----------------------------+-------------------+------------+------------+------------+\n|Data Reference Date|                            Address|Pharmacy Name|Contact Number|                 Operating DoW|Township/Village/Neighborhood|Administrative City|       Notes|Opening Time|Closing Time|\n+-------------------+-----------------------------------+-------------+--------------+------------------------------+-----------------------------+-------------------+------------+------------+------------+\n|         2019-05-22| 제주특별자치도 서귀포시 남원읍 ...|     조광약국|  064-764-4159|                          null|                       남원읍|           서귀포시|      월. 수|       20:00|       23:00|\n|         2019-05-22| 제주특별자치도 서귀포시 대정읍 ...|     건강약국|  064-794-7575|                          null|                       대정읍|           서귀포시|      화. 목|       20:00|       23:00|\n|         2019-05-22|제주특별자치도 서귀포시 천제연로...|     중문약국|  064-739-0381|                          null|                       중문동|           서귀포시|  월. 수. 금|       22:00|       24:00|\n|         2019-05-22| 제주특별자치도 제주시 구좌읍 세...|     세화약국|  064-784-8442|                          null|                       구좌읍|             제주시|특이사항없음|       20:00|       23:00|\n|         2019-05-22| 제주특별자치도 제주시 조천읍 신...|     조천약국|  064-783-8989|                          null|                       조천읍|             제주시|  월. 수. 금|       20:00|       23:00|\n|         2019-05-22| 제주특별자치도 제주시 조천읍 신...|     영재약국|  064-783-1959|                          null|                       조천읍|             제주시|특이사항없음|       20:00|       23:00|\n|         2019-05-22| 제주특별자치도 제주시 한림읍 한...|     현재약국|  064-796-9333|                          null|                       한림읍|             제주시|특이사항없음|       20:00|       23:00|\n|         2024-05-28| 제주특별자치도 서귀포시 남원읍 ...|     조광약국|  064-764-4159|                      월+수+금|                       남원읍|           서귀포시|        null|        null|        null|\n|         2024-05-28|제주특별자치도 서귀포시 천제연로...|     중문약국|  064-739-9687|                      월+수+금|                       중문동|           서귀포시|        null|        null|        null|\n|         2024-05-28| 제주특별자치도 제주시 구좌읍 세...|     세화약국|  064-784-8442|                      화+수+목|                       구좌읍|             제주시|        null|        null|        null|\n|         2024-05-28| 제주특별자치도 제주시 조천읍 신...|     조천약국|  064-783-8989|                      월+수+금|                       조천읍|             제주시|        null|        null|        null|\n|         2024-05-28| 제주특별자치도 제주시 조천읍 신...|     영재약국|  064-783-1959|             월+화+수+목+금+토|                       조천읍|             제주시|        null|        null|        null|\n|         2024-05-28| 제주특별자치도 제주시 한림읍 한...|     현재약국|  064-796-9333|월+화+수+목+금+토(둘째·넷째...|                       한림읍|             제주시|        null|        null|        null|\n+-------------------+-----------------------------------+-------------+--------------+------------------------------+-----------------------------+-------------------+------------+------------+------------+\n",
					"output_type": "stream"
				}
			]
		},
		{
			"cell_type": "code",
			"source": "from pyspark.sql.functions import to_date\n\n# 데이터프레임의 '데이터기준일자' 열을 date 타입으로 변환\nfinal_df = final_df.withColumn(\"Data Reference Date\", to_date(final_df[\"Data Reference Date\"], \"yyyy-MM-dd\"))",
			"metadata": {
				"trusted": true,
				"tags": []
			},
			"execution_count": 49,
			"outputs": [
				{
					"name": "stdout",
					"text": "\n",
					"output_type": "stream"
				}
			]
		},
		{
			"cell_type": "code",
			"source": "final_df.write.format(\"parquet\").mode(\"overwrite\").save(\"s3://final-project-transformed-data/jeju-latenight-pharmacy/\")",
			"metadata": {
				"trusted": true,
				"tags": []
			},
			"execution_count": 50,
			"outputs": [
				{
					"name": "stdout",
					"text": "\n",
					"output_type": "stream"
				}
			]
		},
		{
			"cell_type": "code",
			"source": "job.commit()",
			"metadata": {
				"trusted": true,
				"tags": []
			},
			"execution_count": 86,
			"outputs": [
				{
					"name": "stdout",
					"text": "\n",
					"output_type": "stream"
				}
			]
		}
	]
}